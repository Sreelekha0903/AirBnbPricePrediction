{
 "cells": [
  {
   "cell_type": "code",
   "execution_count": 1,
   "metadata": {},
   "outputs": [
    {
     "name": "stderr",
     "output_type": "stream",
     "text": [
      "[nltk_data] Downloading package stopwords to\n",
      "[nltk_data]     C:\\Users\\tsreelekha\\AppData\\Roaming\\nltk_data...\n",
      "[nltk_data]   Package stopwords is already up-to-date!\n"
     ]
    }
   ],
   "source": [
    "import pandas as pd\n",
    "from sklearn.preprocessing import OneHotEncoder, LabelEncoder\n",
    "from sklearn.feature_extraction.text import TfidfVectorizer, CountVectorizer\n",
    "import re\n",
    "import nltk\n",
    "# !pip install geopy\n",
    "nltk.download('stopwords')\n",
    "from nltk.corpus import stopwords\n",
    "from scipy.stats import skewnorm\n",
    "from matplotlib import pyplot as plt\n",
    "import seaborn as sbs\n",
    "import numpy as np\n",
    "from sklearn.cluster import KMeans\n",
    "from sklearn.metrics.pairwise import euclidean_distances\n",
    "import math\n",
    "from datetime import date\n",
    "from sklearn import preprocessing\n",
    "from sklearn.model_selection import StratifiedShuffleSplit, train_test_split, cross_val_score\n",
    "from sklearn.feature_selection import RFECV\n",
    "from sklearn.tree import DecisionTreeClassifier\n",
    "from sklearn.pipeline import Pipeline\n",
    "from numpy import mean, std\n",
    "from scipy.stats import loguniform\n",
    "from pandas import read_csv\n",
    "from sklearn.linear_model import Ridge, LinearRegression, Lasso\n",
    "from sklearn.svm import SVR\n",
    "from sklearn.model_selection import RandomizedSearchCV, GridSearchCV, RepeatedKFold\n",
    "from sklearn.metrics import mean_squared_error, make_scorer, r2_score\n",
    "#import statsmodels.api as sm\n",
    "from sklearn.ensemble import RandomForestRegressor, GradientBoostingRegressor\n",
    "import seaborn as sns\n",
    "# !pip install xgboost\n",
    "import xgboost as xgb\n",
    "import warnings\n",
    "warnings.filterwarnings(\"ignore\")\n",
    "from scipy.stats import chi2_contingency\n",
    "from scipy.stats import pearsonr, spearmanr\n",
    "from sklearn.cluster import KMeans\n",
    "from sklearn import metrics\n",
    "from scipy.spatial.distance import cdist\n",
    "import matplotlib.pyplot as plt\n",
    "import geopy\n",
    "# !pip install textblob\n",
    "from textblob import TextBlob\n",
    "import os"
   ]
  },
  {
   "cell_type": "markdown",
   "metadata": {},
   "source": [
    "Loading the dataset"
   ]
  },
  {
   "cell_type": "code",
   "execution_count": 2,
   "metadata": {},
   "outputs": [],
   "source": [
    "AirBnb = pd.read_csv(\"C://Users//tsreelekha//Downloads//AirBnb//train.csv\")\n",
    "AirBnbTest = pd.read_csv(\"C://Users//tsreelekha//Downloads//AirBnb//test.csv\")"
   ]
  },
  {
   "cell_type": "markdown",
   "metadata": {},
   "source": [
    "Dropping ID columns"
   ]
  },
  {
   "cell_type": "code",
   "execution_count": 3,
   "metadata": {},
   "outputs": [],
   "source": [
    "Y = AirBnb[\"log_price\"]\n",
    "X = AirBnb.drop([\"id\",\"log_price\",\"name\",\"thumbnail_url\"],axis = 1)\n",
    "AirBnbTest_X = AirBnbTest.drop([\"id\",\"name\",\"thumbnail_url\"],axis = 1)"
   ]
  },
  {
   "cell_type": "code",
   "execution_count": 4,
   "metadata": {},
   "outputs": [],
   "source": [
    "# X,testMainX,Y,testMainY = train_test_split(FullX,FullY,test_size = 0.65, random_state = 100)"
   ]
  },
  {
   "cell_type": "markdown",
   "metadata": {},
   "source": [
    "Function to get zipcode based on longitude and latitude"
   ]
  },
  {
   "cell_type": "code",
   "execution_count": 5,
   "metadata": {},
   "outputs": [],
   "source": [
    "def get_zipcode(df, geolocator, lat_field, lon_field):\n",
    "    location = geolocator.reverse((df[lat_field], df[lon_field]))\n",
    "    return location.raw['address']\n",
    "geolocator = geopy.Nominatim(user_agent='NewTest')"
   ]
  },
  {
   "cell_type": "markdown",
   "metadata": {},
   "source": [
    "Checking if the number is float"
   ]
  },
  {
   "cell_type": "code",
   "execution_count": 6,
   "metadata": {},
   "outputs": [],
   "source": [
    "def isfloat(num):\n",
    "    try:\n",
    "        float(num)\n",
    "        return True\n",
    "    except ValueError:\n",
    "        return False"
   ]
  },
  {
   "cell_type": "markdown",
   "metadata": {},
   "source": [
    "Applying get_zipcode function to get all the missing zipcodes"
   ]
  },
  {
   "cell_type": "code",
   "execution_count": 7,
   "metadata": {},
   "outputs": [],
   "source": [
    "for i, col in enumerate(X['zipcode']):\n",
    "    if pd.isna(str(X['zipcode'].iloc[i])) or (not isfloat(str(X['zipcode'].iloc[i]))):\n",
    "        \n",
    "        df = pd.DataFrame({\n",
    "    'Lat': [X['latitude'].iloc[i]],\n",
    "    'Lon': [X['longitude'].iloc[i]]})\n",
    "        if df.apply(get_zipcode, axis=1, geolocator=geolocator, lat_field='Lat', lon_field='Lon')[0].get('postcode'):\n",
    "            X['zipcode'].iloc[i] = df.apply(get_zipcode, axis=1, geolocator=geolocator, lat_field='Lat', lon_field='Lon')[0]['postcode']\n",
    "            X['zipcode'].iloc[i] = re.sub('[^0-9]', '', X['zipcode'].iloc[i])\n",
    "    elif (math.isnan(float(X['zipcode'].iloc[i]))):\n",
    "        df = pd.DataFrame({\n",
    "    'Lat': [X['latitude'].iloc[i]],\n",
    "    'Lon': [X['longitude'].iloc[i]]})\n",
    "        if df.apply(get_zipcode, axis=1, geolocator=geolocator, lat_field='Lat', lon_field='Lon')[0].get('postcode'):\n",
    "            X['zipcode'].iloc[i] = df.apply(get_zipcode, axis=1, geolocator=geolocator, lat_field='Lat', lon_field='Lon')[0]['postcode']\n",
    "            X['zipcode'].iloc[i] = re.sub('[^0-9]', '', X['zipcode'].iloc[i])\n",
    "    if((not math.isnan(float(X['zipcode'].iloc[i]))) and isfloat(str(X['zipcode'].iloc[i]))):\n",
    "        X['zipcode'].iloc[i] = int(float(X['zipcode'].iloc[i]))"
   ]
  },
  {
   "cell_type": "code",
   "execution_count": 8,
   "metadata": {},
   "outputs": [],
   "source": [
    "for i, col in enumerate(AirBnbTest_X['zipcode']):\n",
    "    if pd.isna(str(AirBnbTest_X['zipcode'].iloc[i])) or (not isfloat(str(AirBnbTest_X['zipcode'].iloc[i]))):\n",
    "        df = pd.DataFrame({\n",
    "    'Lat': AirBnbTest_X['latitude'].iloc[i],\n",
    "    'Lon': [AirBnbTest_X['longitude'].iloc[i]]})\n",
    "        if df.apply(get_zipcode, axis=1, geolocator=geolocator, lat_field='Lat', lon_field='Lon')[0].get('postcode'):\n",
    "            AirBnbTest_X['zipcode'].iloc[i] = df.apply(get_zipcode, axis=1, geolocator=geolocator, lat_field='Lat', lon_field='Lon')[0]['postcode']\n",
    "            AirBnbTest_X['zipcode'].iloc[i] = re.sub('[^0-9]', '', AirBnbTest_X['zipcode'].iloc[i])\n",
    "    elif (math.isnan(float(AirBnbTest_X['zipcode'].iloc[i]))):\n",
    "        df = pd.DataFrame({\n",
    "    'Lat': [AirBnbTest_X['latitude'].iloc[i]],\n",
    "    'Lon': [AirBnbTest_X['longitude'].iloc[i]]})\n",
    "        if df.apply(get_zipcode, axis=1, geolocator=geolocator, lat_field='Lat', lon_field='Lon')[0].get('postcode'):\n",
    "            AirBnbTest_X['zipcode'].iloc[i] = df.apply(get_zipcode, axis=1, geolocator=geolocator, lat_field='Lat', lon_field='Lon')[0]['postcode']\n",
    "            AirBnbTest_X['zipcode'].iloc[i] = re.sub('[^0-9]', '', AirBnbTest_X['zipcode'].iloc[i])\n",
    "    if((not math.isnan(float(AirBnbTest_X['zipcode'].iloc[i]))) and isfloat(str(AirBnbTest_X['zipcode'].iloc[i]))):\n",
    "        AirBnbTest_X['zipcode'].iloc[i] = int(float(AirBnbTest_X['zipcode'].iloc[i]))"
   ]
  },
  {
   "cell_type": "markdown",
   "metadata": {},
   "source": [
    "Filling neighbourhood values based on zipcodes and city"
   ]
  },
  {
   "cell_type": "code",
   "execution_count": 9,
   "metadata": {},
   "outputs": [],
   "source": [
    "for i, col in enumerate(X['neighbourhood']):\n",
    "    if pd.isna(X['neighbourhood'].iloc[i]):\n",
    "        if len(X[(X['zipcode'].iloc[i] == X['zipcode']) & (X['city'].iloc[i] == X['city'])].neighbourhood.mode(dropna = True)) > 0:\n",
    "            X['neighbourhood'].iloc[i] = X[(X['zipcode'].iloc[i] == X['zipcode']) & (X['city'].iloc[i] == X['city'])].neighbourhood.mode(dropna = True)[0]\n",
    "        elif len(X[X['zipcode'].iloc[i] == X['zipcode']].neighbourhood.mode(dropna = True)) > 0:\n",
    "            X['neighbourhood'].iloc[i] = X[X['zipcode'].iloc[i] == X['zipcode']].neighbourhood.mode(dropna = True)[0]\n",
    "        else:\n",
    "            X['neighbourhood'].iloc[i] = X[X['city'].iloc[i] == X['city']].neighbourhood.mode(dropna = True)[0]"
   ]
  },
  {
   "cell_type": "code",
   "execution_count": 10,
   "metadata": {},
   "outputs": [],
   "source": [
    "for i, col in enumerate(AirBnbTest_X['neighbourhood']):\n",
    "    if pd.isna(AirBnbTest_X['neighbourhood'].iloc[i]):\n",
    "        if len(AirBnbTest_X[(AirBnbTest_X['zipcode'].iloc[i] ==AirBnbTest_X['zipcode']) & (AirBnbTest_X['city'].iloc[i] == AirBnbTest_X['city'])].neighbourhood.mode(dropna = True)) > 0:\n",
    "            AirBnbTest_X['neighbourhood'].iloc[i] = AirBnbTest_X[(AirBnbTest_X['zipcode'].iloc[i] == AirBnbTest_X['zipcode']) & (AirBnbTest_X['city'].iloc[i] == AirBnbTest_X['city'])].neighbourhood.mode(dropna = True)[0]\n",
    "        elif len(AirBnbTest_X[AirBnbTest_X['zipcode'].iloc[i] == AirBnbTest_X['zipcode']].neighbourhood.mode(dropna = True)) > 0:\n",
    "            AirBnbTest_X['neighbourhood'].iloc[i] = AirBnbTest_X[AirBnbTest_X['zipcode'].iloc[i] == AirBnbTest_X['zipcode']].neighbourhood.mode(dropna = True)[0]\n",
    "        else:\n",
    "            AirBnbTest_X['neighbourhood'].iloc[i] = AirBnbTest_X[AirBnbTest_X['city'].iloc[i] == AirBnbTest_X['city']].neighbourhood.mode(dropna = True)[0]"
   ]
  },
  {
   "cell_type": "code",
   "execution_count": 11,
   "metadata": {},
   "outputs": [],
   "source": [
    "# pd.isnull(AirBnbTest_X).sum()[pd.isnull(AirBnbTest_X).sum() > 0]"
   ]
  },
  {
   "cell_type": "code",
   "execution_count": 12,
   "metadata": {},
   "outputs": [],
   "source": [
    "dfForNeighbourhood = pd.DataFrame(columns = ['neighbourhood','Value_Counts'])\n",
    "for idx, name in enumerate(X['neighbourhood'].value_counts(normalize=True).index.tolist()):\n",
    "    dfForNeighbourhood.loc[idx] = [name,X['neighbourhood'].value_counts(normalize=True)[idx]]"
   ]
  },
  {
   "cell_type": "code",
   "execution_count": 13,
   "metadata": {},
   "outputs": [
    {
     "data": {
      "text/html": [
       "<div>\n",
       "<style scoped>\n",
       "    .dataframe tbody tr th:only-of-type {\n",
       "        vertical-align: middle;\n",
       "    }\n",
       "\n",
       "    .dataframe tbody tr th {\n",
       "        vertical-align: top;\n",
       "    }\n",
       "\n",
       "    .dataframe thead th {\n",
       "        text-align: right;\n",
       "    }\n",
       "</style>\n",
       "<table border=\"1\" class=\"dataframe\">\n",
       "  <thead>\n",
       "    <tr style=\"text-align: right;\">\n",
       "      <th></th>\n",
       "      <th>neighbourhood</th>\n",
       "      <th>Value_Counts</th>\n",
       "    </tr>\n",
       "  </thead>\n",
       "  <tbody>\n",
       "    <tr>\n",
       "      <th>0</th>\n",
       "      <td>Williamsburg</td>\n",
       "      <td>0.038699</td>\n",
       "    </tr>\n",
       "    <tr>\n",
       "      <th>1</th>\n",
       "      <td>Mid-Wilshire</td>\n",
       "      <td>0.036405</td>\n",
       "    </tr>\n",
       "    <tr>\n",
       "      <th>2</th>\n",
       "      <td>Bedford-Stuyvesant</td>\n",
       "      <td>0.029226</td>\n",
       "    </tr>\n",
       "    <tr>\n",
       "      <th>3</th>\n",
       "      <td>Bushwick</td>\n",
       "      <td>0.021603</td>\n",
       "    </tr>\n",
       "    <tr>\n",
       "      <th>4</th>\n",
       "      <td>Hollywood</td>\n",
       "      <td>0.021130</td>\n",
       "    </tr>\n",
       "    <tr>\n",
       "      <th>...</th>\n",
       "      <td>...</td>\n",
       "      <td>...</td>\n",
       "    </tr>\n",
       "    <tr>\n",
       "      <th>614</th>\n",
       "      <td>Rossville</td>\n",
       "      <td>0.000013</td>\n",
       "    </tr>\n",
       "    <tr>\n",
       "      <th>615</th>\n",
       "      <td>Mt. Pleasant</td>\n",
       "      <td>0.000013</td>\n",
       "    </tr>\n",
       "    <tr>\n",
       "      <th>616</th>\n",
       "      <td>Pullman</td>\n",
       "      <td>0.000013</td>\n",
       "    </tr>\n",
       "    <tr>\n",
       "      <th>617</th>\n",
       "      <td>Near Northeast</td>\n",
       "      <td>0.000013</td>\n",
       "    </tr>\n",
       "    <tr>\n",
       "      <th>618</th>\n",
       "      <td>Newton</td>\n",
       "      <td>0.000013</td>\n",
       "    </tr>\n",
       "  </tbody>\n",
       "</table>\n",
       "<p>619 rows × 2 columns</p>\n",
       "</div>"
      ],
      "text/plain": [
       "          neighbourhood  Value_Counts\n",
       "0          Williamsburg      0.038699\n",
       "1          Mid-Wilshire      0.036405\n",
       "2    Bedford-Stuyvesant      0.029226\n",
       "3              Bushwick      0.021603\n",
       "4             Hollywood      0.021130\n",
       "..                  ...           ...\n",
       "614           Rossville      0.000013\n",
       "615        Mt. Pleasant      0.000013\n",
       "616             Pullman      0.000013\n",
       "617      Near Northeast      0.000013\n",
       "618              Newton      0.000013\n",
       "\n",
       "[619 rows x 2 columns]"
      ]
     },
     "execution_count": 13,
     "metadata": {},
     "output_type": "execute_result"
    }
   ],
   "source": [
    "dfForNeighbourhood"
   ]
  },
  {
   "cell_type": "code",
   "execution_count": 14,
   "metadata": {},
   "outputs": [],
   "source": [
    "X = pd.merge(X,dfForNeighbourhood,on='neighbourhood',how='left')\n",
    "X['neighbourhood'] = X['Value_Counts']\n",
    "X = X.drop(['Value_Counts'],axis = 1)"
   ]
  },
  {
   "cell_type": "code",
   "execution_count": 15,
   "metadata": {},
   "outputs": [],
   "source": [
    "AirBnbTest_X = pd.merge(AirBnbTest_X,dfForNeighbourhood,on='neighbourhood',how='left')\n",
    "AirBnbTest_X['neighbourhood'] = AirBnbTest_X['Value_Counts']\n",
    "AirBnbTest_X = AirBnbTest_X.drop(['Value_Counts'],axis = 1)"
   ]
  },
  {
   "cell_type": "code",
   "execution_count": 16,
   "metadata": {},
   "outputs": [
    {
     "data": {
      "text/plain": [
       "bathrooms                   79\n",
       "description                 14\n",
       "first_review              5436\n",
       "host_has_profile_pic        55\n",
       "host_identity_verified      55\n",
       "host_response_rate        6306\n",
       "host_since                  55\n",
       "last_review               5425\n",
       "neighbourhood                9\n",
       "review_scores_rating      5717\n",
       "bedrooms                    28\n",
       "beds                        46\n",
       "dtype: int64"
      ]
     },
     "execution_count": 16,
     "metadata": {},
     "output_type": "execute_result"
    }
   ],
   "source": [
    "pd.isnull(AirBnbTest_X).sum()[pd.isnull(AirBnbTest_X).sum() > 0]"
   ]
  },
  {
   "cell_type": "code",
   "execution_count": 17,
   "metadata": {},
   "outputs": [],
   "source": [
    "dfForZipcode = pd.DataFrame(columns = ['zipcode','Value_Counts'])\n",
    "for idx, name in enumerate(X['zipcode'].value_counts(normalize=True).index.tolist()):\n",
    "    dfForZipcode.loc[idx] = [name,X['zipcode'].value_counts(normalize=True)[name]]"
   ]
  },
  {
   "cell_type": "code",
   "execution_count": 18,
   "metadata": {},
   "outputs": [
    {
     "data": {
      "text/html": [
       "<div>\n",
       "<style scoped>\n",
       "    .dataframe tbody tr th:only-of-type {\n",
       "        vertical-align: middle;\n",
       "    }\n",
       "\n",
       "    .dataframe tbody tr th {\n",
       "        vertical-align: top;\n",
       "    }\n",
       "\n",
       "    .dataframe thead th {\n",
       "        text-align: right;\n",
       "    }\n",
       "</style>\n",
       "<table border=\"1\" class=\"dataframe\">\n",
       "  <thead>\n",
       "    <tr style=\"text-align: right;\">\n",
       "      <th></th>\n",
       "      <th>zipcode</th>\n",
       "      <th>Value_Counts</th>\n",
       "    </tr>\n",
       "  </thead>\n",
       "  <tbody>\n",
       "    <tr>\n",
       "      <th>0</th>\n",
       "      <td>11211.0</td>\n",
       "      <td>0.022142</td>\n",
       "    </tr>\n",
       "    <tr>\n",
       "      <th>1</th>\n",
       "      <td>90291.0</td>\n",
       "      <td>0.017352</td>\n",
       "    </tr>\n",
       "    <tr>\n",
       "      <th>2</th>\n",
       "      <td>11221.0</td>\n",
       "      <td>0.016354</td>\n",
       "    </tr>\n",
       "    <tr>\n",
       "      <th>3</th>\n",
       "      <td>11206.0</td>\n",
       "      <td>0.013952</td>\n",
       "    </tr>\n",
       "    <tr>\n",
       "      <th>4</th>\n",
       "      <td>94110.0</td>\n",
       "      <td>0.013331</td>\n",
       "    </tr>\n",
       "    <tr>\n",
       "      <th>...</th>\n",
       "      <td>...</td>\n",
       "      <td>...</td>\n",
       "    </tr>\n",
       "    <tr>\n",
       "      <th>667</th>\n",
       "      <td>90630.0</td>\n",
       "      <td>0.000013</td>\n",
       "    </tr>\n",
       "    <tr>\n",
       "      <th>668</th>\n",
       "      <td>2117.0</td>\n",
       "      <td>0.000013</td>\n",
       "    </tr>\n",
       "    <tr>\n",
       "      <th>669</th>\n",
       "      <td>10279.0</td>\n",
       "      <td>0.000013</td>\n",
       "    </tr>\n",
       "    <tr>\n",
       "      <th>670</th>\n",
       "      <td>10199.0</td>\n",
       "      <td>0.000013</td>\n",
       "    </tr>\n",
       "    <tr>\n",
       "      <th>671</th>\n",
       "      <td>90104.0</td>\n",
       "      <td>0.000013</td>\n",
       "    </tr>\n",
       "  </tbody>\n",
       "</table>\n",
       "<p>672 rows × 2 columns</p>\n",
       "</div>"
      ],
      "text/plain": [
       "     zipcode  Value_Counts\n",
       "0    11211.0      0.022142\n",
       "1    90291.0      0.017352\n",
       "2    11221.0      0.016354\n",
       "3    11206.0      0.013952\n",
       "4    94110.0      0.013331\n",
       "..       ...           ...\n",
       "667  90630.0      0.000013\n",
       "668   2117.0      0.000013\n",
       "669  10279.0      0.000013\n",
       "670  10199.0      0.000013\n",
       "671  90104.0      0.000013\n",
       "\n",
       "[672 rows x 2 columns]"
      ]
     },
     "execution_count": 18,
     "metadata": {},
     "output_type": "execute_result"
    }
   ],
   "source": [
    "dfForZipcode"
   ]
  },
  {
   "cell_type": "code",
   "execution_count": 19,
   "metadata": {},
   "outputs": [],
   "source": [
    "X = pd.merge(X,dfForZipcode,on='zipcode',how='left')\n",
    "X['zipcode'] = X['Value_Counts']\n",
    "X = X.drop(['Value_Counts'],axis = 1)"
   ]
  },
  {
   "cell_type": "code",
   "execution_count": 20,
   "metadata": {},
   "outputs": [],
   "source": [
    "AirBnbTest_X = pd.merge(AirBnbTest_X,dfForZipcode,on='zipcode',how='left')\n",
    "AirBnbTest_X['zipcode'] = AirBnbTest_X['Value_Counts']\n",
    "AirBnbTest_X = AirBnbTest_X.drop(['Value_Counts'],axis = 1)"
   ]
  },
  {
   "cell_type": "code",
   "execution_count": 21,
   "metadata": {},
   "outputs": [],
   "source": [
    "dfForPropertyType = pd.DataFrame(columns = ['property_type','Value_Counts'])\n",
    "for idx, name in enumerate(X['property_type'].value_counts().index.tolist()):\n",
    "    dfForPropertyType.loc[idx] = [name,X['property_type'].value_counts()[idx]]"
   ]
  },
  {
   "cell_type": "code",
   "execution_count": 22,
   "metadata": {},
   "outputs": [],
   "source": [
    "for idx, name in enumerate(X['property_type'].value_counts().index.tolist()):\n",
    "    dfForPropertyType.loc[idx] = [name,X['property_type'].value_counts()[idx]]"
   ]
  },
  {
   "cell_type": "code",
   "execution_count": 23,
   "metadata": {},
   "outputs": [],
   "source": [
    "X = pd.merge(X,dfForPropertyType,on='property_type',how='left')\n",
    "X['property_type'] = np.where(X['Value_Counts'] < 3000 , 'Other', X['property_type'])\n",
    "X = X.drop(['Value_Counts'],axis = 1)"
   ]
  },
  {
   "cell_type": "code",
   "execution_count": 24,
   "metadata": {},
   "outputs": [
    {
     "data": {
      "text/plain": [
       "Apartment    66.121089\n",
       "House        22.278744\n",
       "Other        11.600167\n",
       "Name: property_type, dtype: float64"
      ]
     },
     "execution_count": 24,
     "metadata": {},
     "output_type": "execute_result"
    }
   ],
   "source": [
    "(X['property_type'].value_counts() / sum(X['property_type'].value_counts())) * 100"
   ]
  },
  {
   "cell_type": "code",
   "execution_count": 25,
   "metadata": {},
   "outputs": [
    {
     "data": {
      "image/png": "[encoded data removed]",
      "text/plain": [
       "<Figure size 432x288 with 1 Axes>"
      ]
     },
     "metadata": {},
     "output_type": "display_data"
    }
   ],
   "source": [
    "plt.pie((X['property_type'].value_counts() / sum(X['property_type'].value_counts())) * 100, labels = X['property_type'].value_counts().index.tolist(), shadow = True)\n",
    "plt.show() "
   ]
  },
  {
   "cell_type": "code",
   "execution_count": 26,
   "metadata": {},
   "outputs": [],
   "source": [
    "AirBnbTest_X = pd.merge(AirBnbTest_X,dfForPropertyType,on='property_type',how='left')\n",
    "AirBnbTest_X['property_type'] = np.where(AirBnbTest_X['Value_Counts'] < 3000 , 'Other', AirBnbTest_X['property_type'])\n",
    "AirBnbTest_X = AirBnbTest_X.drop(['Value_Counts'],axis = 1)"
   ]
  },
  {
   "cell_type": "code",
   "execution_count": 27,
   "metadata": {},
   "outputs": [],
   "source": [
    "for i, col in enumerate(X['amenities']):\n",
    "    X['amenities'].iloc[i] = re.sub('translation missing*@', '', X['amenities'].iloc[i])\n",
    "    X['amenities'].iloc[i] = re.sub('[^.,a-zA-Z]', '',X['amenities'].iloc[i])\n",
    "    X['amenities'].iloc[i] = re.sub('translationmissingen.hostingamenity', '', X['amenities'].iloc[i])\n",
    "    X['amenities'].iloc[i] = re.sub(',', ' ', X['amenities'].iloc[i])\n",
    "vectorizer = CountVectorizer()\n",
    "X_Vec = vectorizer.fit_transform(X['amenities'])\n",
    "df1 = pd.DataFrame(X_Vec.toarray(), columns=vectorizer.get_feature_names())\n",
    "dfForAmenities = pd.DataFrame(columns = ['amenities','Value_Counts'])\n",
    "idx = 0\n",
    "for col in df1.columns:\n",
    "    colSum = df1[col].sum()\n",
    "    df1[col].loc[df1[col] == 1] = colSum\n",
    "    dfForAmenities.loc[idx] = [col,colSum]\n",
    "    idx+=1\n",
    "X['amenities'] = df1.sum(axis = 1)"
   ]
  },
  {
   "cell_type": "code",
   "execution_count": 28,
   "metadata": {},
   "outputs": [],
   "source": [
    "for i, col in enumerate(AirBnbTest_X['amenities']):\n",
    "    AirBnbTest_X['amenities'].iloc[i] = re.sub('translation missing*@', '', AirBnbTest_X['amenities'].iloc[i])\n",
    "    AirBnbTest_X['amenities'].iloc[i] = re.sub('[^.,a-zA-Z]', '',AirBnbTest_X['amenities'].iloc[i])\n",
    "    AirBnbTest_X['amenities'].iloc[i] = re.sub('translationmissingen.hostingamenity', '', AirBnbTest_X['amenities'].iloc[i])\n",
    "    AirBnbTest_X['amenities'].iloc[i] = re.sub(',', ' ', AirBnbTest_X['amenities'].iloc[i])\n",
    "vectorizer = CountVectorizer()\n",
    "X_Vec = vectorizer.fit_transform(AirBnbTest_X['amenities'])\n",
    "df2 = pd.DataFrame(X_Vec.toarray(), columns=vectorizer.get_feature_names())\n",
    "idx = 0\n",
    "for col in df2.columns:\n",
    "    df2[col].loc[df2[col] == 1] = int(dfForAmenities[dfForAmenities['amenities'] == col]['Value_Counts'].to_string(index=False))\n"
   ]
  },
  {
   "cell_type": "code",
   "execution_count": 29,
   "metadata": {},
   "outputs": [],
   "source": [
    "AirBnbTest_X['amenities'] = df2.sum(axis = 1)  "
   ]
  },
  {
   "cell_type": "code",
   "execution_count": 30,
   "metadata": {},
   "outputs": [],
   "source": [
    "cachedStopWords = stopwords.words(\"english\")\n",
    "def removeStopWords(text):\n",
    "    text = re.sub(r'[^A-Za-z\\' ]+','',text)\n",
    "    a =  ' '.join([word for word in text.split() if word.lower() not in cachedStopWords])\n",
    "    return a\n",
    "X['description'] = X['description'].apply(removeStopWords)\n",
    "X['description'] = X['description'].apply(lambda x: (TextBlob(x).sentiment.polarity))"
   ]
  },
  {
   "cell_type": "code",
   "execution_count": 31,
   "metadata": {},
   "outputs": [],
   "source": [
    "for i, col in enumerate(AirBnbTest_X['description']):\n",
    "    if not pd.isna(AirBnbTest_X['description'].iloc[i]):\n",
    "        AirBnbTest_X['description'].loc[i] = removeStopWords(AirBnbTest_X['description'].loc[i])\n",
    "        AirBnbTest_X['description'].iloc[i] = TextBlob(AirBnbTest_X['description'].iloc[i]).sentiment.polarity"
   ]
  },
  {
   "cell_type": "code",
   "execution_count": 32,
   "metadata": {},
   "outputs": [],
   "source": [
    "for i, col in enumerate(X['host_response_rate']):\n",
    "    if not pd.isna(X['host_response_rate'].iloc[i]):\n",
    "        X['host_response_rate'].iloc[i] =  re.sub('%*', '', X['host_response_rate'].iloc[i])\n",
    "X['host_response_rate'] = pd.to_numeric(X['host_response_rate'])"
   ]
  },
  {
   "cell_type": "code",
   "execution_count": 33,
   "metadata": {},
   "outputs": [],
   "source": [
    "for i, col in enumerate(AirBnbTest_X['host_response_rate']):\n",
    "    if not pd.isna(AirBnbTest_X['host_response_rate'].iloc[i]):\n",
    "        AirBnbTest_X['host_response_rate'].iloc[i] =  re.sub('%*', '', AirBnbTest_X['host_response_rate'].iloc[i])\n",
    "AirBnbTest_X['host_response_rate'] = pd.to_numeric(AirBnbTest_X['host_response_rate'])"
   ]
  },
  {
   "cell_type": "code",
   "execution_count": 34,
   "metadata": {},
   "outputs": [],
   "source": [
    "X[['first_review','last_review','host_since']] = X[['first_review','last_review','host_since']].apply(pd.to_datetime)\n",
    "X['review_diff'] = (X['last_review'] - X['first_review']).dt.days\n",
    "X['host_since'] = X['host_since'].apply(lambda x : (pd.to_datetime(date.today()) - x)).dt.days"
   ]
  },
  {
   "cell_type": "code",
   "execution_count": 35,
   "metadata": {},
   "outputs": [],
   "source": [
    "AirBnbTest_X[['first_review','last_review','host_since']] = AirBnbTest_X[['first_review','last_review','host_since']].apply(pd.to_datetime)\n",
    "AirBnbTest_X['review_diff'] = (AirBnbTest_X['last_review'] - AirBnbTest_X['first_review']).dt.days\n",
    "AirBnbTest_X['host_since'] = AirBnbTest_X['host_since'].apply(lambda x : (pd.to_datetime(date.today()) - x)).dt.days"
   ]
  },
  {
   "cell_type": "code",
   "execution_count": 36,
   "metadata": {},
   "outputs": [],
   "source": [
    "def drawPlot(data):\n",
    "    fig, ax = plt.subplots(1, 1, figsize=(10, 7))\n",
    "    sbs.distplot(data, ax=ax)"
   ]
  },
  {
   "cell_type": "code",
   "execution_count": 37,
   "metadata": {},
   "outputs": [
    {
     "data": {
      "image/png": "[encoded data removed]",
      "text/plain": [
       "<Figure size 720x504 with 1 Axes>"
      ]
     },
     "metadata": {
      "needs_background": "light"
     },
     "output_type": "display_data"
    },
    {
     "data": {
      "image/png": "[encoded data removed]",
      "text/plain": [
       "<Figure size 720x504 with 1 Axes>"
      ]
     },
     "metadata": {
      "needs_background": "light"
     },
     "output_type": "display_data"
    },
    {
     "data": {
      "image/png": "[encoded data removed]",
      "text/plain": [
       "<Figure size 720x504 with 1 Axes>"
      ]
     },
     "metadata": {
      "needs_background": "light"
     },
     "output_type": "display_data"
    },
    {
     "data": {
      "image/png": "[encoded data removed]",
      "text/plain": [
       "<Figure size 720x504 with 1 Axes>"
      ]
     },
     "metadata": {
      "needs_background": "light"
     },
     "output_type": "display_data"
    },
    {
     "data": {
      "image/png": "[encoded data removed]",
      "text/plain": [
       "<Figure size 720x504 with 1 Axes>"
      ]
     },
     "metadata": {
      "needs_background": "light"
     },
     "output_type": "display_data"
    },
    {
     "data": {
      "image/png": "[encoded data removed]",
      "text/plain": [
       "<Figure size 720x504 with 1 Axes>"
      ]
     },
     "metadata": {
      "needs_background": "light"
     },
     "output_type": "display_data"
    },
    {
     "data": {
      "image/png": "[encoded data removed]",
      "text/plain": [
       "<Figure size 720x504 with 1 Axes>"
      ]
     },
     "metadata": {
      "needs_background": "light"
     },
     "output_type": "display_data"
    }
   ],
   "source": [
    "drawPlot(X[\"bathrooms\"])\n",
    "drawPlot(X[\"host_response_rate\"])\n",
    "drawPlot(X[\"host_since\"])\n",
    "drawPlot(X[\"review_scores_rating\"])\n",
    "drawPlot(X[\"bedrooms\"])\n",
    "drawPlot(X[\"beds\"])\n",
    "drawPlot(X[\"review_diff\"]) "
   ]
  },
  {
   "cell_type": "code",
   "execution_count": 38,
   "metadata": {},
   "outputs": [],
   "source": [
    "X['host_has_profile_pic'] = X['host_has_profile_pic'].fillna(X['host_has_profile_pic'].mode()[0])\n",
    "X['host_identity_verified'] = X['host_identity_verified'].fillna(X['host_identity_verified'].mode()[0])\n",
    "X['host_response_rate'] = X['host_response_rate'].fillna(X['host_response_rate'].median())\n",
    "X['bathrooms'] = X['bathrooms'].fillna(X['bathrooms'].median())\n",
    "X['review_scores_rating'] = X['review_scores_rating'].fillna(X['review_scores_rating'].median())\n",
    "X['bedrooms'] = X['bedrooms'].fillna(X['bedrooms'].median())\n",
    "X['host_since'] = X['host_since'].fillna(X['host_since'].median())\n",
    "X['beds'] = X['beds'].fillna(X['beds'].median())\n",
    "X['review_diff'] = X['review_diff'].fillna(X['review_diff'].median())\n",
    "X['zipcode'] = X['zipcode'].fillna(X['zipcode'].median())"
   ]
  },
  {
   "cell_type": "code",
   "execution_count": 39,
   "metadata": {},
   "outputs": [],
   "source": [
    "for i, col in enumerate(AirBnbTest_X['neighbourhood']):\n",
    "    if pd.isna(AirBnbTest_X['neighbourhood'].iloc[i]):\n",
    "        if len(AirBnbTest_X[(AirBnbTest_X['zipcode'].iloc[i] ==AirBnbTest_X['zipcode']) & (AirBnbTest_X['city'].iloc[i] == AirBnbTest_X['city'])].neighbourhood.mode(dropna = True)) > 0:\n",
    "            AirBnbTest_X['neighbourhood'].iloc[i] = AirBnbTest_X[(AirBnbTest_X['zipcode'].iloc[i] == AirBnbTest_X['zipcode']) & (AirBnbTest_X['city'].iloc[i] == AirBnbTest_X['city'])].neighbourhood.mode(dropna = True)[0]\n",
    "        elif len(AirBnbTest_X[AirBnbTest_X['zipcode'].iloc[i] == AirBnbTest_X['zipcode']].neighbourhood.mode(dropna = True)) > 0:\n",
    "            AirBnbTest_X['neighbourhood'].iloc[i] = AirBnbTest_X[AirBnbTest_X['zipcode'].iloc[i] == AirBnbTest_X['zipcode']].neighbourhood.mode(dropna = True)[0]\n",
    "        else:\n",
    "            AirBnbTest_X['neighbourhood'].iloc[i] = AirBnbTest_X[AirBnbTest_X['city'].iloc[i] == AirBnbTest_X['city']].neighbourhood.mode(dropna = True)[0]"
   ]
  },
  {
   "cell_type": "code",
   "execution_count": 40,
   "metadata": {},
   "outputs": [],
   "source": [
    "AirBnbTest_X['host_has_profile_pic'] = AirBnbTest_X['host_has_profile_pic'].fillna(X['host_has_profile_pic'].mode()[0])\n",
    "AirBnbTest_X['host_identity_verified'] = AirBnbTest_X['host_identity_verified'].fillna(X['host_identity_verified'].mode()[0])\n",
    "AirBnbTest_X['host_response_rate'] = AirBnbTest_X['host_response_rate'].fillna(X['host_response_rate'].median())\n",
    "AirBnbTest_X['bathrooms'] = AirBnbTest_X['bathrooms'].fillna(X['bathrooms'].median())\n",
    "AirBnbTest_X['review_scores_rating'] = AirBnbTest_X['review_scores_rating'].fillna(X['review_scores_rating'].median())\n",
    "AirBnbTest_X['bedrooms'] = AirBnbTest_X['bedrooms'].fillna(X['bedrooms'].median())\n",
    "AirBnbTest_X['host_since'] = AirBnbTest_X['host_since'].fillna(X['host_since'].median())\n",
    "AirBnbTest_X['beds'] = AirBnbTest_X['beds'].fillna(X['beds'].median())\n",
    "AirBnbTest_X['review_diff'] = AirBnbTest_X['review_diff'].fillna(X['review_diff'].median())\n",
    "AirBnbTest_X['zipcode'] = AirBnbTest_X['zipcode'].fillna(X['zipcode'].median())\n",
    "AirBnbTest_X['description'] = AirBnbTest_X['description'].fillna(0)"
   ]
  },
  {
   "cell_type": "code",
   "execution_count": 41,
   "metadata": {},
   "outputs": [],
   "source": [
    "X = X.drop([\"first_review\",\"last_review\",\"longitude\",\"latitude\"],axis = 1)\n",
    "AirBnbTest_X = AirBnbTest_X.drop([\"first_review\",\"last_review\",\"longitude\",\"latitude\"],axis = 1)"
   ]
  },
  {
   "cell_type": "code",
   "execution_count": 42,
   "metadata": {},
   "outputs": [],
   "source": [
    "dfForBedType = pd.DataFrame(columns = ['bed_type','Value_Counts'])\n",
    "for idx, name in enumerate(X['bed_type'].value_counts().index.tolist()):\n",
    "    dfForBedType.loc[idx] = [name,X['bed_type'].value_counts()[idx]]\n",
    "X = pd.merge(X,dfForBedType,on='bed_type',how='left')\n",
    "X['bed_type'] = np.where(X['Value_Counts'] < 1000 , 'Other', X['bed_type'])\n",
    "X = X.drop(['Value_Counts'],axis = 1)"
   ]
  },
  {
   "cell_type": "code",
   "execution_count": 43,
   "metadata": {},
   "outputs": [
    {
     "data": {
      "text/plain": [
       "Real Bed    97.189351\n",
       "Other        2.810649\n",
       "Name: bed_type, dtype: float64"
      ]
     },
     "execution_count": 43,
     "metadata": {},
     "output_type": "execute_result"
    }
   ],
   "source": [
    "(X['bed_type'].value_counts() / sum(X['bed_type'].value_counts())) * 100"
   ]
  },
  {
   "cell_type": "code",
   "execution_count": 44,
   "metadata": {},
   "outputs": [
    {
     "data": {
      "image/png": "[encoded data removed]",
      "text/plain": [
       "<Figure size 432x288 with 1 Axes>"
      ]
     },
     "metadata": {},
     "output_type": "display_data"
    }
   ],
   "source": [
    "plt.pie((X['bed_type'].value_counts() / sum(X['bed_type'].value_counts())) * 100, labels = X['bed_type'].value_counts().index.tolist(), shadow = True)\n",
    "plt.show() "
   ]
  },
  {
   "cell_type": "code",
   "execution_count": 45,
   "metadata": {},
   "outputs": [],
   "source": [
    "AirBnbTest_X = pd.merge(AirBnbTest_X,dfForBedType,on='bed_type',how='left')\n",
    "AirBnbTest_X['bed_type'] = np.where(AirBnbTest_X['Value_Counts'] < 1000 , 'Other', AirBnbTest_X['bed_type'])\n",
    "AirBnbTest_X = AirBnbTest_X.drop(['Value_Counts'],axis = 1)"
   ]
  },
  {
   "cell_type": "code",
   "execution_count": 46,
   "metadata": {},
   "outputs": [],
   "source": [
    "dfForCity = pd.DataFrame(columns = ['city','Value_Counts'])\n",
    "for idx, name in enumerate(X['city'].value_counts().index.tolist()):\n",
    "    dfForCity.loc[idx] = [name,X['city'].value_counts()[idx]]\n",
    "X = pd.merge(X,dfForCity,on='city',how='left')\n",
    "X['city'] = np.where(X['Value_Counts'] < 7000 , 'Other', X['city'])\n",
    "X = X.drop(['Value_Counts'],axis = 1)"
   ]
  },
  {
   "cell_type": "code",
   "execution_count": 47,
   "metadata": {},
   "outputs": [
    {
     "data": {
      "text/plain": [
       "NYC      43.649391\n",
       "LA       30.296447\n",
       "Other    26.054162\n",
       "Name: city, dtype: float64"
      ]
     },
     "execution_count": 47,
     "metadata": {},
     "output_type": "execute_result"
    }
   ],
   "source": [
    "(X['city'].value_counts() / sum(X['city'].value_counts())) * 100"
   ]
  },
  {
   "cell_type": "code",
   "execution_count": 48,
   "metadata": {},
   "outputs": [
    {
     "data": {
      "image/png": "[encoded data removed]",
      "text/plain": [
       "<Figure size 432x288 with 1 Axes>"
      ]
     },
     "metadata": {},
     "output_type": "display_data"
    }
   ],
   "source": [
    "plt.pie((X['city'].value_counts() / sum(X['city'].value_counts())) * 100, labels = X['city'].value_counts().index.tolist(), shadow = True)\n",
    "plt.show() "
   ]
  },
  {
   "cell_type": "code",
   "execution_count": 49,
   "metadata": {},
   "outputs": [],
   "source": [
    "AirBnbTest_X = pd.merge(AirBnbTest_X,dfForCity,on='city',how='left')\n",
    "AirBnbTest_X['city'] = np.where(AirBnbTest_X['Value_Counts'] < 7000 , 'Other', AirBnbTest_X['city'])\n",
    "AirBnbTest_X = AirBnbTest_X.drop(['Value_Counts'],axis = 1)"
   ]
  },
  {
   "cell_type": "code",
   "execution_count": 50,
   "metadata": {},
   "outputs": [],
   "source": [
    "# X.to_excel(r'Downloads//XBeforeLabelEncoder.xlsx', index = False)"
   ]
  },
  {
   "cell_type": "code",
   "execution_count": 51,
   "metadata": {},
   "outputs": [],
   "source": [
    "# AirBnbTest_X.to_excel(r'Downloads//AirBnbTest_XBeforeLabelEncoder.xlsx', index = False)"
   ]
  },
  {
   "cell_type": "code",
   "execution_count": 52,
   "metadata": {},
   "outputs": [],
   "source": [
    "d = pd.get_dummies(X, columns = ['room_type','bed_type','city','property_type'])\n",
    "X[d.columns] = d\n",
    "X = X.drop(['room_type','bed_type','city','property_type'],axis = 1)"
   ]
  },
  {
   "cell_type": "code",
   "execution_count": 53,
   "metadata": {},
   "outputs": [],
   "source": [
    "d = pd.get_dummies(AirBnbTest_X, columns = ['room_type','bed_type','city','property_type'])\n",
    "AirBnbTest_X[d.columns] = d\n",
    "AirBnbTest_X = AirBnbTest_X.drop(['room_type','bed_type','city','property_type'],axis = 1)"
   ]
  },
  {
   "cell_type": "code",
   "execution_count": 54,
   "metadata": {},
   "outputs": [
    {
     "name": "stdout",
     "output_type": "stream",
     "text": [
      "{'flexible': 0, 'moderate': 1, 'strict': 2, 'super_strict_30': 3, 'super_strict_60': 4}\n",
      "{False: 0, True: 1}\n",
      "{'f': 0, 't': 1}\n",
      "{'f': 0, 't': 1}\n",
      "{'f': 0, 't': 1}\n"
     ]
    }
   ],
   "source": [
    "cols = ['cancellation_policy','cleaning_fee','host_has_profile_pic','host_identity_verified','instant_bookable']\n",
    "for c in cols:\n",
    "    lbl = LabelEncoder() \n",
    "    lbl.fit(list(X[c].values))\n",
    "    le_dict = dict(zip(lbl.classes_, lbl.transform(lbl.classes_)))\n",
    "    print(le_dict)\n",
    "    X[c] = lbl.transform(list(X[c].values))\n",
    "    AirBnbTest_X[c] = AirBnbTest_X[c].apply(lambda x: le_dict.get(x) if le_dict.get(x) != None else np.nan)"
   ]
  },
  {
   "cell_type": "code",
   "execution_count": 55,
   "metadata": {},
   "outputs": [],
   "source": [
    "AirBnbTest_X['cancellation_policy'] = AirBnbTest_X['cancellation_policy'].fillna(X['cancellation_policy'].mode())"
   ]
  },
  {
   "cell_type": "code",
   "execution_count": 56,
   "metadata": {},
   "outputs": [
    {
     "data": {
      "image/png": "[encoded data removed]",
      "text/plain": [
       "<Figure size 432x288 with 1 Axes>"
      ]
     },
     "metadata": {
      "needs_background": "light"
     },
     "output_type": "display_data"
    }
   ],
   "source": [
    "fig, ax = plt.subplots()\n",
    "ax.scatter(x = X['amenities'], y = Y)\n",
    "plt.ylabel('SalePrice', fontsize=13)\n",
    "plt.xlabel('amenities', fontsize=13)\n",
    "plt.show()"
   ]
  },
  {
   "cell_type": "code",
   "execution_count": 57,
   "metadata": {},
   "outputs": [
    {
     "data": {
      "image/png": "[encoded data removed]",
      "text/plain": [
       "<Figure size 432x288 with 1 Axes>"
      ]
     },
     "metadata": {
      "needs_background": "light"
     },
     "output_type": "display_data"
    }
   ],
   "source": [
    "fig, ax = plt.subplots()\n",
    "ax.scatter(x = X['accommodates'], y = Y)\n",
    "plt.ylabel('SalePrice', fontsize=13)\n",
    "plt.xlabel('accommodates', fontsize=13)\n",
    "plt.show()"
   ]
  },
  {
   "cell_type": "code",
   "execution_count": 58,
   "metadata": {},
   "outputs": [
    {
     "data": {
      "image/png": "[encoded data removed]",
      "text/plain": [
       "<Figure size 432x288 with 1 Axes>"
      ]
     },
     "metadata": {
      "needs_background": "light"
     },
     "output_type": "display_data"
    }
   ],
   "source": [
    "fig, ax = plt.subplots()\n",
    "ax.scatter(x = X['bathrooms'], y = Y)\n",
    "plt.ylabel('SalePrice', fontsize=13)\n",
    "plt.xlabel('bathrooms', fontsize=13)\n",
    "plt.show()"
   ]
  },
  {
   "cell_type": "code",
   "execution_count": 59,
   "metadata": {},
   "outputs": [
    {
     "data": {
      "image/png": "[encoded data removed]",
      "text/plain": [
       "<Figure size 432x288 with 1 Axes>"
      ]
     },
     "metadata": {
      "needs_background": "light"
     },
     "output_type": "display_data"
    }
   ],
   "source": [
    "fig, ax = plt.subplots()\n",
    "ax.scatter(x = X['host_response_rate'], y = Y)\n",
    "plt.ylabel('SalePrice', fontsize=13)\n",
    "plt.xlabel('host_response_rate', fontsize=13)\n",
    "plt.show()"
   ]
  },
  {
   "cell_type": "code",
   "execution_count": 60,
   "metadata": {},
   "outputs": [
    {
     "data": {
      "image/png": "[encoded data removed]",
      "text/plain": [
       "<Figure size 432x288 with 1 Axes>"
      ]
     },
     "metadata": {
      "needs_background": "light"
     },
     "output_type": "display_data"
    }
   ],
   "source": [
    "fig, ax = plt.subplots()\n",
    "ax.scatter(x = X['host_since'], y = Y)\n",
    "plt.ylabel('SalePrice', fontsize=13)\n",
    "plt.xlabel('host_since', fontsize=13)\n",
    "plt.show()"
   ]
  },
  {
   "cell_type": "code",
   "execution_count": 61,
   "metadata": {},
   "outputs": [
    {
     "data": {
      "image/png": "[encoded data removed]",
      "text/plain": [
       "<Figure size 432x288 with 1 Axes>"
      ]
     },
     "metadata": {
      "needs_background": "light"
     },
     "output_type": "display_data"
    }
   ],
   "source": [
    "fig, ax = plt.subplots()\n",
    "ax.scatter(x = X['number_of_reviews'], y = Y)\n",
    "plt.ylabel('SalePrice', fontsize=13)\n",
    "plt.xlabel('number_of_reviews', fontsize=13)\n",
    "plt.show()"
   ]
  },
  {
   "cell_type": "code",
   "execution_count": 62,
   "metadata": {},
   "outputs": [
    {
     "data": {
      "image/png": "[encoded data removed]",
      "text/plain": [
       "<Figure size 432x288 with 1 Axes>"
      ]
     },
     "metadata": {
      "needs_background": "light"
     },
     "output_type": "display_data"
    }
   ],
   "source": [
    "fig, ax = plt.subplots()\n",
    "ax.scatter(x = X['bedrooms'], y = Y)\n",
    "plt.ylabel('SalePrice', fontsize=13)\n",
    "plt.xlabel('bedrooms', fontsize=13)\n",
    "plt.show()"
   ]
  },
  {
   "cell_type": "code",
   "execution_count": 63,
   "metadata": {},
   "outputs": [
    {
     "data": {
      "image/png": "[encoded data removed]",
      "text/plain": [
       "<Figure size 432x288 with 1 Axes>"
      ]
     },
     "metadata": {
      "needs_background": "light"
     },
     "output_type": "display_data"
    }
   ],
   "source": [
    "fig, ax = plt.subplots()\n",
    "ax.scatter(x = X['review_diff'], y = Y)\n",
    "plt.ylabel('SalePrice', fontsize=13)\n",
    "plt.xlabel('review_diff', fontsize=13)\n",
    "plt.show()"
   ]
  },
  {
   "cell_type": "code",
   "execution_count": 64,
   "metadata": {},
   "outputs": [
    {
     "data": {
      "image/png": "[encoded data removed]",
      "text/plain": [
       "<Figure size 432x288 with 1 Axes>"
      ]
     },
     "metadata": {
      "needs_background": "light"
     },
     "output_type": "display_data"
    }
   ],
   "source": [
    "fig, ax = plt.subplots()\n",
    "ax.scatter(x = X['zipcode'], y = Y)\n",
    "plt.ylabel('SalePrice', fontsize=13)\n",
    "plt.xlabel('GrLivArea', fontsize=13)\n",
    "plt.show()"
   ]
  },
  {
   "cell_type": "code",
   "execution_count": 65,
   "metadata": {},
   "outputs": [],
   "source": [
    "scaler = preprocessing.MinMaxScaler()\n",
    "names = ['amenities','host_since','accommodates','number_of_reviews','review_scores_rating','beds','review_diff','host_response_rate']\n",
    "d = scaler.fit_transform(X[names])\n",
    "X[names] = pd.DataFrame(d,columns = names)\n",
    "d = scaler.transform(AirBnbTest_X[names])\n",
    "AirBnbTest_X[names] = pd.DataFrame(d,columns = names)"
   ]
  },
  {
   "cell_type": "code",
   "execution_count": 66,
   "metadata": {},
   "outputs": [],
   "source": [
    "corr_matrix = X.corr().abs()\n",
    "upper_tri = corr_matrix.where(np.triu(np.ones(corr_matrix.shape),k = 1).astype(np.bool))\n",
    "to_drop = [column for column in upper_tri.columns if any (upper_tri[column] > 0.80)]\n",
    "X = X.drop(X[to_drop],axis = 1)\n",
    "AirBnbTest_X = AirBnbTest_X.drop(AirBnbTest_X[to_drop],axis = 1)"
   ]
  },
  {
   "cell_type": "code",
   "execution_count": 67,
   "metadata": {},
   "outputs": [
    {
     "data": {
      "text/plain": [
       "['beds', 'room_type_Private room', 'bed_type_Real Bed']"
      ]
     },
     "execution_count": 67,
     "metadata": {},
     "output_type": "execute_result"
    }
   ],
   "source": [
    "to_drop"
   ]
  },
  {
   "cell_type": "code",
   "execution_count": 68,
   "metadata": {},
   "outputs": [],
   "source": [
    "corr_matrix = AirBnbTest_X.corr().abs()\n",
    "upper_tri = corr_matrix.where(np.triu(np.ones(corr_matrix.shape),k = 1).astype(np.bool))\n",
    "to_drop = [column for column in upper_tri.columns if any (upper_tri[column] > 0.80)]"
   ]
  },
  {
   "cell_type": "code",
   "execution_count": 69,
   "metadata": {},
   "outputs": [
    {
     "data": {
      "text/plain": [
       "[]"
      ]
     },
     "execution_count": 69,
     "metadata": {},
     "output_type": "execute_result"
    }
   ],
   "source": [
    "to_drop"
   ]
  },
  {
   "cell_type": "code",
   "execution_count": 70,
   "metadata": {},
   "outputs": [],
   "source": [
    "# X.to_excel(r'Downloads//X.xlsx', index = False)"
   ]
  },
  {
   "cell_type": "code",
   "execution_count": 71,
   "metadata": {},
   "outputs": [],
   "source": [
    "# AirBnbTest_X.to_excel(r'Downloads//AirBnbTest_X.xlsx', index = False)"
   ]
  },
  {
   "cell_type": "code",
   "execution_count": 72,
   "metadata": {},
   "outputs": [],
   "source": [
    "trainX,testX,trainY,testY = train_test_split(X,Y,test_size = 0.5, random_state = 45)"
   ]
  },
  {
   "cell_type": "code",
   "execution_count": 73,
   "metadata": {},
   "outputs": [
    {
     "name": "stdout",
     "output_type": "stream",
     "text": [
      "0.4862833311650583\n"
     ]
    },
    {
     "data": {
      "text/plain": [
       "0.544051668024663"
      ]
     },
     "execution_count": 73,
     "metadata": {},
     "output_type": "execute_result"
    }
   ],
   "source": [
    "ridge = Ridge()\n",
    "ridge.fit(trainX,trainY)\n",
    "predY = ridge.predict(trainX)\n",
    "print(np.sqrt(mean_squared_error(trainY,predY)))\n",
    "ridge.score(trainX,trainY)"
   ]
  },
  {
   "cell_type": "code",
   "execution_count": 74,
   "metadata": {},
   "outputs": [
    {
     "name": "stdout",
     "output_type": "stream",
     "text": [
      "Fitting 30 folds for each of 10 candidates, totalling 300 fits\n"
     ]
    },
    {
     "name": "stderr",
     "output_type": "stream",
     "text": [
      "[Parallel(n_jobs=-1)]: Using backend LokyBackend with 16 concurrent workers.\n",
      "[Parallel(n_jobs=-1)]: Done   9 tasks      | elapsed:    7.5s\n",
      "[Parallel(n_jobs=-1)]: Done 130 tasks      | elapsed:   12.2s\n"
     ]
    },
    {
     "name": "stdout",
     "output_type": "stream",
     "text": [
      "RandomizedSearchCV(cv=RepeatedKFold(n_repeats=3, n_splits=10, random_state=1),\n",
      "                   estimator=Ridge(), n_jobs=-1,\n",
      "                   param_distributions={'alpha': array([ 0.1       ,  0.6040404 ,  1.10808081,  1.61212121,  2.11616162,\n",
      "        2.62020202,  3.12424242,  3.62828283,  4.13232323,  4.63636364,\n",
      "        5.14040404,  5.64444444,  6.14848485,  6.65252525,  7.15656566,\n",
      "        7.66060606,  8.16464646,  8.66868687,  9.17272727,  9.6767676...\n",
      "       40.42323232, 40.92727273, 41.43131313, 41.93535354, 42.43939394,\n",
      "       42.94343434, 43.44747475, 43.95151515, 44.45555556, 44.95959596,\n",
      "       45.46363636, 45.96767677, 46.47171717, 46.97575758, 47.47979798,\n",
      "       47.98383838, 48.48787879, 48.99191919, 49.4959596 , 50.        ]),\n",
      "                                        'fit_intercept': [True, False],\n",
      "                                        'normalize': [True, False],\n",
      "                                        'solver': ['auto', 'cholesky', 'saga']},\n",
      "                   scoring=make_scorer(two_score, greater_is_better=False),\n",
      "                   verbose=2)\n",
      "Best Score: -0.2374946901429098\n",
      "Best Hyperparameters: {'solver': 'auto', 'normalize': False, 'fit_intercept': True, 'alpha': 1.6121212121212123}\n"
     ]
    },
    {
     "name": "stderr",
     "output_type": "stream",
     "text": [
      "[Parallel(n_jobs=-1)]: Done 300 out of 300 | elapsed:   17.9s finished\n"
     ]
    }
   ],
   "source": [
    "def two_score(Y,Y_pred, scaler = None):\n",
    "     return  mean_squared_error(Y, Y_pred)\n",
    "#       r2Score = r2_score(Y,Y_pred)\n",
    "#       return r2Score\n",
    "\n",
    "two_scorer =  make_scorer(two_score, greater_is_better=False)\n",
    "\n",
    "# define model\n",
    "model = Ridge()\n",
    "# define evaluation\n",
    "cv = RepeatedKFold(n_splits=10, n_repeats=3, random_state=1)\n",
    "# define search space\n",
    "space = dict()\n",
    "space['alpha'] = np.linspace(0.1,50,100)\n",
    "space['fit_intercept'] = [True, False]\n",
    "space['normalize'] = [True, False]\n",
    "space['solver'] = ['auto', 'cholesky','saga']\n",
    "search = RandomizedSearchCV(model, space, scoring=two_scorer, n_jobs=-1, cv=cv, verbose = 2)\n",
    "result = search.fit(trainX,trainY)\n",
    "print(result)\n",
    "print('Best Score: %s' % result.best_score_)\n",
    "print('Best Hyperparameters: %s' % result.best_params_)"
   ]
  },
  {
   "cell_type": "code",
   "execution_count": 75,
   "metadata": {},
   "outputs": [
    {
     "name": "stdout",
     "output_type": "stream",
     "text": [
      "Training Score\n",
      "rmse: 0.48683267397385904\n",
      "r2: 0.5430209380061173\n",
      "adjusted r2: 0.5427000604104643\n",
      "Testing Score\n",
      "rmse: 0.48731911406553735\n",
      "r2: 0.534949896457547\n",
      "adjusted r2: 0.5346233604265415\n"
     ]
    }
   ],
   "source": [
    "ridge = Ridge(alpha = result.best_params_['alpha'], fit_intercept = result.best_params_['fit_intercept'], normalize = result.best_params_['normalize'], solver = result.best_params_['solver'])\n",
    "ridge.fit(trainX,trainY)\n",
    "predY = ridge.predict(trainX)\n",
    "print(\"Training Score\")\n",
    "print(\"rmse: \" + str(np.sqrt(mean_squared_error(trainY,predY))))\n",
    "print(\"r2: \" + str(ridge.score(trainX,trainY)))\n",
    "print(\"adjusted r2: \" + str(1 - (1-ridge.score(trainX, trainY))*(len(trainY)-1)/(len(trainY)-trainX.shape[1]-1)))\n",
    "print(\"Testing Score\")\n",
    "predTestY = ridge.predict(testX)\n",
    "print(\"rmse: \" + str(np.sqrt(mean_squared_error(testY,predTestY))))\n",
    "print(\"r2: \" + str(ridge.score(testX,testY)))\n",
    "print(\"adjusted r2: \" + str(1 - (1-ridge.score(testX, testY))*(len(testY)-1)/(len(testY)-testX.shape[1]-1)))"
   ]
  },
  {
   "cell_type": "code",
   "execution_count": 76,
   "metadata": {},
   "outputs": [
    {
     "name": "stdout",
     "output_type": "stream",
     "text": [
      "Column: amenities, Selected True, Rank: 1.000\n",
      "Column: accommodates, Selected True, Rank: 1.000\n",
      "Column: bathrooms, Selected True, Rank: 1.000\n",
      "Column: cancellation_policy, Selected False, Rank: 6.000\n",
      "Column: cleaning_fee, Selected True, Rank: 1.000\n",
      "Column: description, Selected True, Rank: 1.000\n",
      "Column: host_has_profile_pic, Selected True, Rank: 1.000\n",
      "Column: host_identity_verified, Selected True, Rank: 1.000\n",
      "Column: host_response_rate, Selected True, Rank: 1.000\n",
      "Column: host_since, Selected True, Rank: 1.000\n",
      "Column: instant_bookable, Selected True, Rank: 1.000\n",
      "Column: neighbourhood, Selected True, Rank: 1.000\n",
      "Column: number_of_reviews, Selected True, Rank: 1.000\n",
      "Column: review_scores_rating, Selected True, Rank: 1.000\n",
      "Column: zipcode, Selected True, Rank: 1.000\n",
      "Column: bedrooms, Selected True, Rank: 1.000\n",
      "Column: review_diff, Selected True, Rank: 1.000\n",
      "Column: room_type_Entire home/apt, Selected True, Rank: 1.000\n",
      "Column: room_type_Shared room, Selected True, Rank: 1.000\n",
      "Column: bed_type_Other, Selected False, Rank: 4.000\n",
      "Column: city_LA, Selected True, Rank: 1.000\n",
      "Column: city_NYC, Selected False, Rank: 5.000\n",
      "Column: city_Other, Selected True, Rank: 1.000\n",
      "Column: property_type_Apartment, Selected False, Rank: 3.000\n",
      "Column: property_type_House, Selected False, Rank: 2.000\n",
      "Column: property_type_Other, Selected True, Rank: 1.000\n"
     ]
    }
   ],
   "source": [
    "rfe = RFECV(estimator=Ridge(alpha = result.best_params_['alpha'], fit_intercept = result.best_params_['fit_intercept'], normalize = result.best_params_['normalize'], solver = result.best_params_['solver']))\n",
    "rfe.fit(trainX, trainY)\n",
    "for i in range(trainX.shape[1]):\n",
    "    print('Column: %s, Selected %s, Rank: %.3f' % (trainX.columns[i], rfe.support_[i], rfe.ranking_[i]))"
   ]
  },
  {
   "cell_type": "code",
   "execution_count": 77,
   "metadata": {},
   "outputs": [],
   "source": [
    "for i in trainX.columns[rfe.support_ == False]:\n",
    "    trainX = trainX.drop([i],axis = 1)\n",
    "    testX = testX.drop([i],axis = 1)"
   ]
  },
  {
   "cell_type": "code",
   "execution_count": 78,
   "metadata": {},
   "outputs": [
    {
     "name": "stdout",
     "output_type": "stream",
     "text": [
      "Training Score\n",
      "rmse: 0.4868501458144463\n",
      "r2: 0.5429881365569847\n",
      "adjusted r2: 0.5427289825826294\n",
      "Testing Score\n",
      "rmse: 0.48734189901620584\n",
      "r2: 0.5349064079463154\n",
      "adjusted r2: 0.5346426782537861\n"
     ]
    }
   ],
   "source": [
    "ridge = Ridge(alpha = result.best_params_['alpha'], fit_intercept = result.best_params_['fit_intercept'], normalize = result.best_params_['normalize'], solver = result.best_params_['solver'])\n",
    "ridge.fit(trainX,trainY)\n",
    "predY = ridge.predict(trainX)\n",
    "print(\"Training Score\")\n",
    "print(\"rmse: \" + str(np.sqrt(mean_squared_error(trainY,predY))))\n",
    "print(\"r2: \" + str(ridge.score(trainX,trainY)))\n",
    "print(\"adjusted r2: \" + str(1 - (1-ridge.score(trainX, trainY))*(len(trainY)-1)/(len(trainY)-trainX.shape[1]-1)))\n",
    "print(\"Testing Score\")\n",
    "predTestY = ridge.predict(testX)\n",
    "print(\"rmse: \" + str(np.sqrt(mean_squared_error(testY,predTestY))))\n",
    "print(\"r2: \" + str(ridge.score(testX,testY)))\n",
    "print(\"adjusted r2: \" + str(1 - (1-ridge.score(testX, testY))*(len(testY)-1)/(len(testY)-testX.shape[1]-1)))"
   ]
  },
  {
   "cell_type": "code",
   "execution_count": 79,
   "metadata": {},
   "outputs": [],
   "source": [
    "trainX,testX,trainY,testY = train_test_split(X,Y,test_size = 0.5, random_state = 45)"
   ]
  },
  {
   "cell_type": "code",
   "execution_count": 80,
   "metadata": {},
   "outputs": [
    {
     "name": "stdout",
     "output_type": "stream",
     "text": [
      "0.48472274664905063\n",
      "Testing Score\n",
      "0.48562029333324447\n"
     ]
    },
    {
     "data": {
      "text/plain": [
       "0.5381866244220461"
      ]
     },
     "execution_count": 80,
     "metadata": {},
     "output_type": "execute_result"
    }
   ],
   "source": [
    "lr = LinearRegression()\n",
    "lr.fit(trainX,trainY)\n",
    "predY = lr.predict(trainX)\n",
    "print(np.sqrt(mean_squared_error(trainY,predY)))\n",
    "lr.score(trainX,trainY)\n",
    "print(\"Testing Score\")\n",
    "predTestY = lr.predict(testX)\n",
    "print(np.sqrt(mean_squared_error(testY,predTestY)))\n",
    "lr.score(testX,testY)"
   ]
  },
  {
   "cell_type": "code",
   "execution_count": 81,
   "metadata": {},
   "outputs": [
    {
     "name": "stdout",
     "output_type": "stream",
     "text": [
      "Column: amenities, Selected True, Rank: 1.000\n",
      "Column: accommodates, Selected True, Rank: 1.000\n",
      "Column: bathrooms, Selected True, Rank: 1.000\n",
      "Column: cancellation_policy, Selected False, Rank: 5.000\n",
      "Column: cleaning_fee, Selected True, Rank: 1.000\n",
      "Column: description, Selected True, Rank: 1.000\n",
      "Column: host_has_profile_pic, Selected True, Rank: 1.000\n",
      "Column: host_identity_verified, Selected True, Rank: 1.000\n",
      "Column: host_response_rate, Selected True, Rank: 1.000\n",
      "Column: host_since, Selected True, Rank: 1.000\n",
      "Column: instant_bookable, Selected True, Rank: 1.000\n",
      "Column: neighbourhood, Selected True, Rank: 1.000\n",
      "Column: number_of_reviews, Selected True, Rank: 1.000\n",
      "Column: review_scores_rating, Selected True, Rank: 1.000\n",
      "Column: zipcode, Selected True, Rank: 1.000\n",
      "Column: bedrooms, Selected True, Rank: 1.000\n",
      "Column: review_diff, Selected True, Rank: 1.000\n",
      "Column: room_type_Entire home/apt, Selected True, Rank: 1.000\n",
      "Column: room_type_Shared room, Selected True, Rank: 1.000\n",
      "Column: bed_type_Other, Selected False, Rank: 4.000\n",
      "Column: city_LA, Selected True, Rank: 1.000\n",
      "Column: city_NYC, Selected False, Rank: 6.000\n",
      "Column: city_Other, Selected True, Rank: 1.000\n",
      "Column: property_type_Apartment, Selected False, Rank: 2.000\n",
      "Column: property_type_House, Selected False, Rank: 3.000\n",
      "Column: property_type_Other, Selected True, Rank: 1.000\n"
     ]
    }
   ],
   "source": [
    "rfe = RFECV(estimator=LinearRegression())\n",
    "rfe.fit(trainX, trainY)\n",
    "for i in range(trainX.shape[1]):\n",
    "    print('Column: %s, Selected %s, Rank: %.3f' % (trainX.columns[i], rfe.support_[i], rfe.ranking_[i]))"
   ]
  },
  {
   "cell_type": "code",
   "execution_count": 82,
   "metadata": {},
   "outputs": [],
   "source": [
    "for i in trainX.columns[rfe.support_ == False]:\n",
    "    trainX = trainX.drop([i],axis = 1)\n",
    "    testX = testX.drop([i],axis = 1)"
   ]
  },
  {
   "cell_type": "code",
   "execution_count": 83,
   "metadata": {},
   "outputs": [
    {
     "name": "stdout",
     "output_type": "stream",
     "text": [
      "Training Score\n",
      "rmse: 0.4847410508839543\n",
      "r2: 0.5469392232969866\n",
      "adjusted r2: 0.5466823098330285\n",
      "Testing Score\n",
      "rmse: 0.4856328896064845\n",
      "r2: 0.5381626665974314\n",
      "adjusted r2: 0.5379007833549663\n"
     ]
    }
   ],
   "source": [
    "lr.fit(trainX,trainY)\n",
    "predY = lr.predict(trainX)\n",
    "print(\"Training Score\")\n",
    "print(\"rmse: \" + str(np.sqrt(mean_squared_error(trainY,predY))))\n",
    "print(\"r2: \" + str(lr.score(trainX,trainY)))\n",
    "print(\"adjusted r2: \" + str(1 - (1-lr.score(trainX, trainY))*(len(trainY)-1)/(len(trainY)-trainX.shape[1]-1)))\n",
    "print(\"Testing Score\")\n",
    "predTestY = lr.predict(testX)\n",
    "print(\"rmse: \" + str(np.sqrt(mean_squared_error(testY,predTestY))))\n",
    "print(\"r2: \" + str(lr.score(testX,testY)))\n",
    "print(\"adjusted r2: \" + str(1 - (1-lr.score(testX, testY))*(len(testY)-1)/(len(testY)-testX.shape[1]-1)))"
   ]
  },
  {
   "cell_type": "code",
   "execution_count": 84,
   "metadata": {},
   "outputs": [],
   "source": [
    "trainX,testX,trainY,testY = train_test_split(X,Y,test_size = 0.5, random_state = 45)"
   ]
  },
  {
   "cell_type": "code",
   "execution_count": 85,
   "metadata": {},
   "outputs": [
    {
     "name": "stdout",
     "output_type": "stream",
     "text": [
      "Training Score\n",
      "rmse: 0.720164264729196\n",
      "r2: 0.0\n",
      "adjusted r2: -0.0007021713298045462\n",
      "Testing Score\n",
      "rmse: 0.714604918451935\n",
      "r2: -1.1180132927224307e-05\n",
      "adjusted r2: -0.0007133403501478064\n"
     ]
    }
   ],
   "source": [
    "lasso = Lasso()\n",
    "lasso.fit(trainX,trainY)\n",
    "predY = lasso.predict(trainX)\n",
    "print(\"Training Score\")\n",
    "print(\"rmse: \" + str(np.sqrt(mean_squared_error(trainY,predY))))\n",
    "print(\"r2: \" + str(lasso.score(trainX,trainY)))\n",
    "print(\"adjusted r2: \" + str(1 - (1-lasso.score(trainX, trainY))*(len(trainY)-1)/(len(trainY)-trainX.shape[1]-1)))\n",
    "print(\"Testing Score\")\n",
    "predTestY = lasso.predict(testX)\n",
    "print(\"rmse: \" + str(np.sqrt(mean_squared_error(testY,predTestY))))\n",
    "print(\"r2: \" + str(lasso.score(testX,testY)))\n",
    "print(\"adjusted r2: \" + str(1 - (1-lasso.score(testX, testY))*(len(testY)-1)/(len(testY)-testX.shape[1]-1)))"
   ]
  },
  {
   "cell_type": "code",
   "execution_count": 86,
   "metadata": {},
   "outputs": [
    {
     "name": "stdout",
     "output_type": "stream",
     "text": [
      "Best Score: -0.2353417108285684\n",
      "Best Hyperparameters: {'alpha': 1.0722672220103232e-07}\n"
     ]
    }
   ],
   "source": [
    "def my_custom_loss_function(Y,Y_pred):\n",
    "#     r2Score = r2_score(Y,Y_pred)\n",
    "#     return r2Score\n",
    "    return mean_squared_error(Y, Y_pred)\n",
    "\n",
    "my_scorer = make_scorer(my_custom_loss_function,greater_is_better = False)\n",
    "\n",
    "# define model\n",
    "model = Lasso()\n",
    "# define evaluation\n",
    "cv = RepeatedKFold(n_splits=10, n_repeats=3, random_state=1)\n",
    "# define search space\n",
    "space = dict()\n",
    "# space['selection'] = ['cyclic', 'random']\n",
    "space['alpha'] = np.logspace(-10,10,100)\n",
    "# space['fit_intercept'] = [True, False]\n",
    "# space['normalize'] = [True, False]\n",
    "# define search\n",
    "search = GridSearchCV(model, space,  scoring=my_scorer, n_jobs=-1, cv=cv)\n",
    "# execute search\n",
    "\n",
    "result = search.fit(trainX,trainY)\n",
    "# print(result)\n",
    "# summarize result\n",
    "print('Best Score: %s' % result.best_score_)\n",
    "print('Best Hyperparameters: %s' % result.best_params_)"
   ]
  },
  {
   "cell_type": "code",
   "execution_count": 87,
   "metadata": {},
   "outputs": [
    {
     "name": "stdout",
     "output_type": "stream",
     "text": [
      "Training Score\n",
      "rmse: 0.4847227478809115\n",
      "r2: 0.5469734362698984\n",
      "adjusted r2: 0.5466553340052073\n",
      "Testing Score\n",
      "rmse: 0.48562003844984997\n",
      "r2: 0.5381871091980388\n",
      "adjusted r2: 0.5378628461836217\n"
     ]
    }
   ],
   "source": [
    "lasso = Lasso(alpha = result.best_params_['alpha'])\n",
    "lasso.fit(trainX,trainY)\n",
    "predY = lasso.predict(trainX)\n",
    "print(\"Training Score\")\n",
    "print(\"rmse: \" + str(np.sqrt(mean_squared_error(trainY,predY))))\n",
    "print(\"r2: \" + str(lasso.score(trainX,trainY)))\n",
    "print(\"adjusted r2: \" + str(1 - (1-lasso.score(trainX, trainY))*(len(trainY)-1)/(len(trainY)-trainX.shape[1]-1)))\n",
    "print(\"Testing Score\")\n",
    "predTestY = lasso.predict(testX)\n",
    "print(\"rmse: \" + str(np.sqrt(mean_squared_error(testY,predTestY))))\n",
    "print(\"r2: \" + str(lasso.score(testX,testY)))\n",
    "print(\"adjusted r2: \" + str(1 - (1-lasso.score(testX, testY))*(len(testY)-1)/(len(testY)-testX.shape[1]-1)))"
   ]
  },
  {
   "cell_type": "code",
   "execution_count": 88,
   "metadata": {},
   "outputs": [
    {
     "name": "stdout",
     "output_type": "stream",
     "text": [
      "Column: amenities, Selected True, Rank: 1.000\n",
      "Column: accommodates, Selected True, Rank: 1.000\n",
      "Column: bathrooms, Selected True, Rank: 1.000\n",
      "Column: cancellation_policy, Selected False, Rank: 5.000\n",
      "Column: cleaning_fee, Selected True, Rank: 1.000\n",
      "Column: description, Selected True, Rank: 1.000\n",
      "Column: host_has_profile_pic, Selected True, Rank: 1.000\n",
      "Column: host_identity_verified, Selected True, Rank: 1.000\n",
      "Column: host_response_rate, Selected True, Rank: 1.000\n",
      "Column: host_since, Selected True, Rank: 1.000\n",
      "Column: instant_bookable, Selected True, Rank: 1.000\n",
      "Column: neighbourhood, Selected True, Rank: 1.000\n",
      "Column: number_of_reviews, Selected True, Rank: 1.000\n",
      "Column: review_scores_rating, Selected True, Rank: 1.000\n",
      "Column: zipcode, Selected True, Rank: 1.000\n",
      "Column: bedrooms, Selected True, Rank: 1.000\n",
      "Column: review_diff, Selected True, Rank: 1.000\n",
      "Column: room_type_Entire home/apt, Selected True, Rank: 1.000\n",
      "Column: room_type_Shared room, Selected True, Rank: 1.000\n",
      "Column: bed_type_Other, Selected False, Rank: 4.000\n",
      "Column: city_LA, Selected True, Rank: 1.000\n",
      "Column: city_NYC, Selected True, Rank: 1.000\n",
      "Column: city_Other, Selected True, Rank: 1.000\n",
      "Column: property_type_Apartment, Selected False, Rank: 2.000\n",
      "Column: property_type_House, Selected False, Rank: 3.000\n",
      "Column: property_type_Other, Selected True, Rank: 1.000\n"
     ]
    }
   ],
   "source": [
    "rfe = RFECV(estimator=Lasso(alpha = result.best_params_['alpha']))\n",
    "rfe.fit(trainX, trainY)\n",
    "for i in range(trainX.shape[1]):\n",
    "    print('Column: %s, Selected %s, Rank: %.3f' % (trainX.columns[i], rfe.support_[i], rfe.ranking_[i]))"
   ]
  },
  {
   "cell_type": "code",
   "execution_count": 89,
   "metadata": {},
   "outputs": [],
   "source": [
    "for i in trainX.columns[rfe.support_ == False]:\n",
    "    trainX = trainX.drop([i],axis = 1)\n",
    "    testX = testX.drop([i],axis = 1)"
   ]
  },
  {
   "cell_type": "code",
   "execution_count": 90,
   "metadata": {},
   "outputs": [
    {
     "name": "stdout",
     "output_type": "stream",
     "text": [
      "Training Score\n",
      "rmse: 0.48474105211527885\n",
      "r2: 0.5469392209952841\n",
      "adjusted r2: 0.546670066287515\n",
      "Testing Score\n",
      "rmse: 0.48563263574614013\n",
      "r2: 0.5381631494401562\n",
      "adjusted r2: 0.5378887884455752\n"
     ]
    }
   ],
   "source": [
    "lasso = Lasso(alpha = result.best_params_['alpha'])\n",
    "lasso.fit(trainX,trainY)\n",
    "predY = lasso.predict(trainX)\n",
    "print(\"Training Score\")\n",
    "print(\"rmse: \" + str(np.sqrt(mean_squared_error(trainY,predY))))\n",
    "print(\"r2: \" + str(lasso.score(trainX,trainY)))\n",
    "print(\"adjusted r2: \" + str(1 - (1-lasso.score(trainX, trainY))*(len(trainY)-1)/(len(trainY)-trainX.shape[1]-1)))\n",
    "print(\"Testing Score\")\n",
    "predTestY = lasso.predict(testX)\n",
    "print(\"rmse: \" + str(np.sqrt(mean_squared_error(testY,predTestY))))\n",
    "print(\"r2: \" + str(lasso.score(testX,testY)))\n",
    "print(\"adjusted r2: \" + str(1 - (1-lasso.score(testX, testY))*(len(testY)-1)/(len(testY)-testX.shape[1]-1)))"
   ]
  },
  {
   "cell_type": "code",
   "execution_count": 91,
   "metadata": {},
   "outputs": [],
   "source": [
    "trainX,testX,trainY,testY = train_test_split(X,Y,test_size = 0.5, random_state = 45)"
   ]
  },
  {
   "cell_type": "code",
   "execution_count": 92,
   "metadata": {},
   "outputs": [
    {
     "name": "stdout",
     "output_type": "stream",
     "text": [
      "Training Score\n",
      "rmse: 0.15832542549242518\n",
      "r2: 0.9516676187244243\n",
      "adjusted r2: 0.9516336811119914\n",
      "Testing Score\n",
      "rmse: 0.4224855537350769\n",
      "r2: 0.6504602426806989\n",
      "adjusted r2: 0.6502148125127143\n"
     ]
    }
   ],
   "source": [
    "random = RandomForestRegressor()\n",
    "random.fit(trainX,trainY)\n",
    "predY = random.predict(trainX)\n",
    "print(\"Training Score\")\n",
    "print(\"rmse: \" + str(np.sqrt(mean_squared_error(trainY,predY))))\n",
    "print(\"r2: \" + str(random.score(trainX,trainY)))\n",
    "print(\"adjusted r2: \" + str(1 - (1-random.score(trainX, trainY))*(len(trainY)-1)/(len(trainY)-trainX.shape[1]-1)))\n",
    "print(\"Testing Score\")\n",
    "predTestY = random.predict(testX)\n",
    "print(\"rmse: \" + str(np.sqrt(mean_squared_error(testY,predTestY))))\n",
    "print(\"r2: \" + str(random.score(testX,testY)))\n",
    "print(\"adjusted r2: \" + str(1 - (1-random.score(testX, testY))*(len(testY)-1)/(len(testY)-testX.shape[1]-1)))"
   ]
  },
  {
   "cell_type": "code",
   "execution_count": 93,
   "metadata": {},
   "outputs": [],
   "source": [
    "# AirBnbTestPred = random.predict(AirBnbTest_X)\n",
    "# AirBnbTest['log_price'] = AirBnbTestPred\n",
    "# AirBnbTest[['id','log_price']].to_excel(r'Downloads//RandomForestWithoutHyp.xlsx', index = False)"
   ]
  },
  {
   "cell_type": "code",
   "execution_count": 94,
   "metadata": {},
   "outputs": [
    {
     "name": "stdout",
     "output_type": "stream",
     "text": [
      "Fitting 5 folds for each of 10 candidates, totalling 50 fits\n"
     ]
    },
    {
     "name": "stderr",
     "output_type": "stream",
     "text": [
      "[Parallel(n_jobs=-1)]: Using backend LokyBackend with 16 concurrent workers.\n",
      "[Parallel(n_jobs=-1)]: Done   9 tasks      | elapsed:  8.8min\n",
      "[Parallel(n_jobs=-1)]: Done  45 out of  50 | elapsed: 19.2min remaining:  2.1min\n",
      "[Parallel(n_jobs=-1)]: Done  50 out of  50 | elapsed: 24.9min finished\n"
     ]
    },
    {
     "name": "stdout",
     "output_type": "stream",
     "text": [
      "Best Score: -0.18036996698833874\n",
      "Best Hyperparameters: {'n_estimators': 1800}\n"
     ]
    }
   ],
   "source": [
    "def my_custom_loss_function(Y,Y_pred):\n",
    "#     r2Score = r2_score(Y,Y_pred)\n",
    "#     return r2Score\n",
    "   return mean_squared_error(Y,Y_pred)\n",
    "\n",
    "my_scorer = make_scorer(my_custom_loss_function,greater_is_better = False)\n",
    "\n",
    "# define model\n",
    "model = RandomForestRegressor()\n",
    "# define evaluation\n",
    "cv = RepeatedKFold(n_splits=10, n_repeats=3, random_state=1)\n",
    "# define search space\n",
    "\n",
    "\n",
    "\n",
    "# for i in alphas:\n",
    "space = dict()\n",
    "space['n_estimators'] = [10,50,100,500,1000,1100,1200,1300,1400,1500,1600,1700,1800,1900,2000]\n",
    "# space['criterion'] = ['gini','entropy']\n",
    "# space['max_depth'] =  list(range(1, 6))\n",
    "# space['min_samples_leaf'] =  np.linspace(0.1, 0.5,5)\n",
    "# space['ccp_alpha'] = np.linspace(0,10,50)\n",
    "# space['min_weight_fraction_leaf'] =  np.linspace(0.1, 0.8,50) \n",
    "# space['max_features'] = ['sqrt','log2']\n",
    "# space['max_leaf_nodes'] =  list(range(2, 10))\n",
    "# space['min_impurity_decrease'] =  list(range(1,10))\n",
    "# space['bootstrap'] = [True,False]\n",
    "# space['max_samples'] = list(range(1, 20))\n",
    "# define search\n",
    "search = RandomizedSearchCV(model, param_distributions = space,  scoring=my_scorer, n_jobs=-1, verbose = 2, cv=5, random_state = 6)\n",
    "# execute search\n",
    "# search = GridSearchCV(model, space,  scoring=my_scorer, n_jobs=-1, verbose = 2, cv=cv)\n",
    "result = search.fit(trainX,trainY)\n",
    "# print(result)\n",
    "# summarize result\n",
    "print('Best Score: %s' % result.best_score_)\n",
    "print('Best Hyperparameters: %s' % result.best_params_)"
   ]
  },
  {
   "cell_type": "code",
   "execution_count": null,
   "metadata": {},
   "outputs": [],
   "source": [
    "random = RandomForestRegressor(\n",
    "    n_estimators = result.best_params_['n_estimators']\n",
    "#     ,\n",
    "#                                max_depth = result.best_params_['max_depth'], \n",
    "#                                 min_samples_leaf = result.best_params_['min_samples_leaf'],\n",
    "#                               ccp_alpha = result.best_params_['ccp_alpha']\n",
    "#     ,\n",
    "#                                 min_weight_fraction_leaf = result.best_params_['min_weight_fraction_leaf']\n",
    "#                                max_leaf_nodes = result.best_params_['max_leaf_nodes'],\n",
    "#                                 max_features = result.best_params_['max_features']\n",
    "#                                min_impurity_decrease = result.best_params_['min_impurity_decrease'],\n",
    "#                                bootstrap = result.best_params_['bootstrap'],\n",
    "#                                max_samples = result.best_params_['max_samples']\n",
    "                              )\n",
    "random.fit(trainX,trainY)\n",
    "predY = random.predict(trainX)\n",
    "print(\"Training Score\")\n",
    "print(\"rmse: \" + str(np.sqrt(mean_squared_error(trainY,predY))))\n",
    "print(\"r2: \" + str(random.score(trainX,trainY)))\n",
    "print(\"adjusted r2: \" + str(1 - (1-random.score(trainX, trainY))*(len(trainY)-1)/(len(trainY)-trainX.shape[1]-1)))\n",
    "print(\"Testing Score\")\n",
    "predTestY = random.predict(testX)\n",
    "print(\"rmse: \" + str(np.sqrt(mean_squared_error(testY,predTestY))))\n",
    "print(\"r2: \" + str(random.score(testX,testY)))\n",
    "print(\"adjusted r2: \" + str(1 - (1-random.score(testX, testY))*(len(testY)-1)/(len(testY)-testX.shape[1]-1)))"
   ]
  },
  {
   "cell_type": "code",
   "execution_count": null,
   "metadata": {},
   "outputs": [],
   "source": [
    "rfe = RFECV(estimator=RandomForestRegressor(\n",
    "    n_estimators = result.best_params_['n_estimators']\n",
    "#                             max_depth = result.best_params_['max_depth'], \n",
    "#                                 min_samples_leaf = result.best_params_['min_samples_leaf'],\n",
    "#                               ccp_alpha = result.best_params_['ccp_alpha'], \n",
    "#                                min_weight_fraction_leaf = result.best_params_['min_weight_fraction_leaf'],\n",
    "#                                max_leaf_nodes = result.best_params_['max_leaf_nodes'],\n",
    "#                                 max_features = result.best_params_['max_features'],\n",
    "#                                min_impurity_decrease = result.best_params_['min_impurity_decrease'],\n",
    "#                              bootstrap = result.best_params_['bootstrap'],\n",
    "#                                 max_samples = result.best_params_['max_samples']\n",
    "                              ))\n",
    "rfe.fit(trainX, trainY)\n",
    "for i in range(trainX.shape[1]):\n",
    "    print('Column: %s, Selected %s, Rank: %.3f' % (trainX.columns[i], rfe.support_[i], rfe.ranking_[i]))"
   ]
  },
  {
   "cell_type": "code",
   "execution_count": null,
   "metadata": {},
   "outputs": [],
   "source": [
    "for i in trainX.columns[rfe.support_ == False]:\n",
    "    trainX = trainX.drop([i],axis = 1)\n",
    "    testX = testX.drop([i],axis = 1)\n",
    "#     AirBnbTest_X = AirBnbTest_X.drop([i],axis = 1)"
   ]
  },
  {
   "cell_type": "code",
   "execution_count": null,
   "metadata": {},
   "outputs": [],
   "source": [
    "random = RandomForestRegressor(\n",
    "    n_estimators = result.best_params_['n_estimators']\n",
    "#     ,\n",
    "#                               max_depth = result.best_params_['max_depth'], \n",
    "#                                  min_samples_leaf = result.best_params_['min_samples_leaf'],\n",
    "#                               ccp_alpha = result.best_params_['ccp_alpha'], \n",
    "#                                min_weight_fraction_leaf = result.best_params_['min_weight_fraction_leaf'],\n",
    "#                                max_leaf_nodes = result.best_params_['max_leaf_nodes'],\n",
    "# #                                max_features = result.best_params_['max_features'],\n",
    "# #                                min_impurity_decrease = result.best_params_['min_impurity_decrease'],\n",
    "# #                                bootstrap = result.best_params_['bootstrap'],\n",
    "#                             max_samples = result.best_params_['max_samples']\n",
    "                              )\n",
    "random.fit(trainX,trainY)\n",
    "predY = random.predict(trainX)\n",
    "print(\"Training Score\")\n",
    "print(\"rmse: \" + str(np.sqrt(mean_squared_error(trainY,predY))))\n",
    "print(\"r2: \" + str(random.score(trainX,trainY)))\n",
    "print(\"adjusted r2: \" + str(1 - (1-random.score(trainX, trainY))*(len(trainY)-1)/(len(trainY)-trainX.shape[1]-1)))\n",
    "print(\"Testing Score\")\n",
    "predTestY = random.predict(testX)\n",
    "print(\"rmse: \" + str(np.sqrt(mean_squared_error(testY,predTestY))))\n",
    "print(\"r2: \" + str(random.score(testX,testY)))\n",
    "print(\"adjusted r2: \" + str(1 - (1-random.score(testX, testY))*(len(testY)-1)/(len(testY)-testX.shape[1]-1)))"
   ]
  },
  {
   "cell_type": "code",
   "execution_count": null,
   "metadata": {},
   "outputs": [],
   "source": [
    "# AirBnbTestPred = random.predict(AirBnbTest_X)\n",
    "# AirBnbTest['log_price'] = AirBnbTestPred\n",
    "# AirBnbTest[['id','log_price']].to_excel(r'Downloads//RandomForestWithHyp.xlsx', index = False)"
   ]
  },
  {
   "cell_type": "code",
   "execution_count": null,
   "metadata": {},
   "outputs": [],
   "source": [
    "# trainX,testX,trainY,testY = train_test_split(X,Y,test_size = 0.5, random_state = 456)\n",
    "trainX,testX,trainY,testY = train_test_split(X,Y,test_size = 0.5)"
   ]
  },
  {
   "cell_type": "code",
   "execution_count": null,
   "metadata": {},
   "outputs": [],
   "source": [
    "model = xgb.XGBRegressor()\n",
    "model.fit(trainX,trainY)\n",
    "predY = model.predict(trainX)\n",
    "print(\"Training Score\")\n",
    "print(\"rmse: \" + str(np.sqrt(mean_squared_error(trainY,predY))))\n",
    "print(\"r2: \" + str(model.score(trainX,trainY)))\n",
    "print(\"adjusted r2: \" + str(1 - (1-model.score(trainX, trainY))*(len(trainY)-1)/(len(trainY)-trainX.shape[1]-1)))\n",
    "print(\"Testing Score\")\n",
    "predTestY = model.predict(testX)\n",
    "print(\"rmse: \" + str(np.sqrt(mean_squared_error(testY,predTestY))))\n",
    "print(\"r2: \" + str(model.score(testX,testY)))\n",
    "print(\"adjusted r2: \" + str(1 - (1-model.score(testX, testY))*(len(testY)-1)/(len(testY)-testX.shape[1]-1)))"
   ]
  },
  {
   "cell_type": "code",
   "execution_count": null,
   "metadata": {},
   "outputs": [],
   "source": [
    "def my_custom_loss_function(Y,Y_pred):\n",
    "#     r2Score = r2_score(Y,Y_pred)\n",
    "#     return r2Score\n",
    "   return np.sqrt(mean_squared_error(Y,Y_pred))\n",
    "\n",
    "my_scorer = make_scorer(my_custom_loss_function,greater_is_better = False)\n",
    "\n",
    "# define model\n",
    "model = xgb.XGBRegressor()\n",
    "# define evaluation\n",
    "cv = RepeatedKFold(n_splits=10, n_repeats=3, random_state=1)\n",
    "# define search space\n",
    "# for i in alphas:\n",
    "space = dict()\n",
    "space['n_estimators'] = [800,900,1000,1100,1200,1300,1400,1500,1600,1700,1800,1900,2000]\n",
    "# space['min_child_weight'] =  np.linspace(0.01,1,40)\n",
    "space['eta'] = np.linspace(0.01,0.4,80)\n",
    "space['max_depth'] = list(range(1, 8))\n",
    "# space['max_features'] = ['sqrt','log2']\n",
    "# space['max_leaf_nodes'] =  list(range(2, 10))\n",
    "space['alpha'] = np.linspace(0,5,100)\n",
    "# space['max_samples'] = list(range(1, 20))\n",
    "# define search\n",
    "search = RandomizedSearchCV(model, param_distributions = space,  scoring=my_scorer, verbose = 2, cv=5, random_state = 60)\n",
    "# execute search\n",
    "# search = GridSearchCV(model, space,  scoring=my_scorer, n_jobs=-1, verbose = 2, cv=cv)\n",
    "result = search.fit(trainX,trainY)\n",
    "# print(result)\n",
    "# summarize result\n",
    "print('Best Score: %s' % result.best_score_)\n",
    "print('Best Hyperparameters: %s' % result.best_params_)"
   ]
  },
  {
   "cell_type": "code",
   "execution_count": null,
   "metadata": {},
   "outputs": [],
   "source": [
    "model = xgb.XGBRegressor(\n",
    "    eta = result.best_params_['eta'],\n",
    "                             max_depth = result.best_params_['max_depth'], \n",
    "                            alpha = result.best_params_['alpha'], \n",
    "                              n_estimators = result.best_params_['n_estimators']\n",
    "#     ,\n",
    "#                                max_leaf_nodes = result.best_params_['max_leaf_nodes'],\n",
    "#                         min_child_weight = result.best_params_['min_child_weight'],\n",
    "#                         max_samples = result.best_params_['max_samples']\n",
    ")\n",
    "# model.fit(trainX,trainY,eval_metric=\"rmse\",eval_set=[(testX,testY)]\n",
    "\n",
    "model.fit(trainX,trainY)\n",
    "predY = model.predict(trainX)\n",
    "print(\"Training Score\")\n",
    "print(\"rmse: \" + str(np.sqrt(mean_squared_error(trainY,predY))))\n",
    "print(\"r2: \" + str(model.score(trainX,trainY)))\n",
    "print(\"adjusted r2: \" + str(1 - (1-model.score(trainX, trainY))*(len(trainY)-1)/(len(trainY)-trainX.shape[1]-1)))\n",
    "print(\"Testing Score\")\n",
    "predTestY = model.predict(testX)\n",
    "print(\"rmse: \" + str(np.sqrt(mean_squared_error(testY,predTestY))))\n",
    "print(\"r2: \" + str(model.score(testX,testY)))\n",
    "print(\"adjusted r2: \" + str(1 - (1-model.score(testX, testY))*(len(testY)-1)/(len(testY)-testX.shape[1]-1)))"
   ]
  },
  {
   "cell_type": "code",
   "execution_count": null,
   "metadata": {},
   "outputs": [],
   "source": [
    "rfe = RFECV(xgb.XGBRegressor(\n",
    "eta = result.best_params_['eta'],\n",
    "                             max_depth = result.best_params_['max_depth'], \n",
    "                            alpha = result.best_params_['alpha'], \n",
    "                              n_estimators = result.best_params_['n_estimators']\n",
    "#     ,\n",
    "#                                max_leaf_nodes = result.best_params_['max_leaf_nodes'],\n",
    "#                         min_child_weight = result.best_params_['min_child_weight'],\n",
    "#                         max_samples = result.best_params_['max_samples']\n",
    ")\n",
    ")\n",
    "rfe.fit(trainX, trainY)\n",
    "for i in range(trainX.shape[1]):\n",
    "    print('Column: %s, Selected %s, Rank: %.3f' % (trainX.columns[i], rfe.support_[i], rfe.ranking_[i]))"
   ]
  },
  {
   "cell_type": "code",
   "execution_count": null,
   "metadata": {},
   "outputs": [],
   "source": [
    "for i in trainX.columns[rfe.support_ == False]:\n",
    "    trainX = trainX.drop([i],axis = 1)\n",
    "    testX = testX.drop([i],axis = 1)\n",
    "    AirBnbTest_X = AirBnbTest_X.drop([i],axis = 1)"
   ]
  },
  {
   "cell_type": "code",
   "execution_count": null,
   "metadata": {},
   "outputs": [],
   "source": [
    "model = xgb.XGBRegressor(\n",
    "eta = result.best_params_['eta'],\n",
    "                             max_depth = result.best_params_['max_depth'], \n",
    "                            alpha = result.best_params_['alpha'], \n",
    "                              n_estimators = result.best_params_['n_estimators']\n",
    "#     ,\n",
    "#                                max_leaf_nodes = result.best_params_['max_leaf_nodes'],\n",
    "#                         min_child_weight = result.best_params_['min_child_weight'],\n",
    "#                         max_samples = result.best_params_['max_samples']\n",
    "# model.fit(trainX,trainY,early_stopping_rounds=100,eval_metric=\"rmse\",eval_set=[(testX,testY)]\n",
    ")\n",
    "model.fit(trainX,trainY)\n",
    "predY = model.predict(trainX)\n",
    "print(\"Training Score\")\n",
    "print(\"rmse: \" + str(np.sqrt(mean_squared_error(trainY,predY))))\n",
    "print(\"r2: \" + str(model.score(trainX,trainY)))\n",
    "print(\"adjusted r2: \" + str(1 - (1-model.score(trainX, trainY))*(len(trainY)-1)/(len(trainY)-trainX.shape[1]-1)))\n",
    "print(\"Testing Score\")\n",
    "predTestY = model.predict(testX)\n",
    "print(\"rmse: \" + str(np.sqrt(mean_squared_error(testY,predTestY))))\n",
    "print(\"r2: \" + str(model.score(testX,testY)))\n",
    "print(\"adjusted r2: \" + str(1 - (1-model.score(testX, testY))*(len(testY)-1)/(len(testY)-testX.shape[1]-1)))"
   ]
  },
  {
   "cell_type": "code",
   "execution_count": null,
   "metadata": {},
   "outputs": [],
   "source": [
    "AirBnbTestPred = model.predict(AirBnbTest_X)\n",
    "AirBnbTest['log_price'] = AirBnbTestPred\n",
    "AirBnbTest[['id','log_price']].to_excel(r'Downloads//XgBoost.xlsx', index = False)"
   ]
  }
 ],
 "metadata": {
  "kernelspec": {
   "display_name": "Python 3",
   "language": "python",
   "name": "python3"
  },
  "language_info": {
   "codemirror_mode": {
    "name": "ipython",
    "version": 3
   },
   "file_extension": ".py",
   "mimetype": "text/x-python",
   "name": "python",
   "nbconvert_exporter": "python",
   "pygments_lexer": "ipython3",
   "version": "3.8.5"
  }
 },
 "nbformat": 4,
 "nbformat_minor": 4
}
